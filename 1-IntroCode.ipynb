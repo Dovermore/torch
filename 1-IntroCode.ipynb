{
 "cells": [
  {
   "cell_type": "markdown",
   "metadata": {},
   "source": [
    "# Test backward grad"
   ]
  },
  {
   "cell_type": "code",
   "execution_count": 45,
   "metadata": {},
   "outputs": [
    {
     "name": "stdout",
     "output_type": "stream",
     "text": [
      "tensor([[0.5000, 0.5000, 0.5000, 0.5000, 0.5000],\n",
      "        [0.5000, 0.5000, 0.5000, 0.5000, 0.5000]], grad_fn=<SigmoidBackward>)\n"
     ]
    }
   ],
   "source": [
    "import torch\n",
    "\n",
    "x = torch.randn(5, 4)\n",
    "w1 = torch.randn(3, 4, requires_grad=True)\n",
    "b1 = torch.randn(3, 1, requires_grad=True)\n",
    "w2 = torch.randn(2, 3, requires_grad=True)\n",
    "b2 = torch.randn(2, 1, requires_grad=True)\n",
    "\n",
    "z1 = w1.mm(x.transpose(0,1)) + b1\n",
    "a1 = torch.nn.functional.relu(z1)\n",
    "z2 = w2.mm(z1) + b2\n",
    "a2 = torch.nn.functional.relu(z2)\n",
    "out = torch.sigmoid(a2)\n",
    "\n",
    "print(out)"
   ]
  },
  {
   "cell_type": "code",
   "execution_count": 46,
   "metadata": {},
   "outputs": [],
   "source": [
    "out.backward(torch.randn(*list(out.size())))"
   ]
  },
  {
   "cell_type": "code",
   "execution_count": 3,
   "metadata": {},
   "outputs": [
    {
     "name": "stdout",
     "output_type": "stream",
     "text": [
      "tensor([[-0.3740, -0.3311, -0.1820,  0.5891],\n",
      "        [ 0.0549, -0.0344,  0.0158,  0.0205],\n",
      "        [-0.1224, -0.5186, -0.1133,  0.7211]])\n",
      "tensor([[-0.3913],\n",
      "        [ 0.0431],\n",
      "        [-0.1989]])\n",
      "------\n",
      "tensor([[-1.0895, -1.1245,  0.1947],\n",
      "        [-0.1390, -0.8206,  0.7192]])\n",
      "tensor([[0.3708],\n",
      "        [0.4800]])\n"
     ]
    }
   ],
   "source": [
    "print(w1.grad)\n",
    "print(b1.grad)\n",
    "print(\"------\")\n",
    "print(w2.grad)\n",
    "print(b2.grad)"
   ]
  },
  {
   "cell_type": "code",
   "execution_count": 4,
   "metadata": {},
   "outputs": [
    {
     "data": {
      "text/plain": [
       "tensor([ 1.0565, -0.7693, -0.4482, -0.2268], grad_fn=<SelectBackward>)"
      ]
     },
     "execution_count": 4,
     "metadata": {},
     "output_type": "execute_result"
    }
   ],
   "source": [
    "w1[2]"
   ]
  },
  {
   "cell_type": "code",
   "execution_count": 5,
   "metadata": {},
   "outputs": [
    {
     "name": "stdout",
     "output_type": "stream",
     "text": [
      "tensor([[ 0.2579, -0.3149, -0.2374],\n",
      "        [ 0.0986,  3.0364, -1.0167],\n",
      "        [-0.8371, -1.0230, -2.1830]], requires_grad=True)\n",
      "tensor([[ 0.2908, -0.0725],\n",
      "        [-2.8346, -2.3837],\n",
      "        [-2.4688,  0.4630]], grad_fn=<MmBackward>)\n"
     ]
    }
   ],
   "source": [
    "w = torch.randn(3, 3, requires_grad=True)\n",
    "x = torch.randn(2, 3, requires_grad=False)\n",
    "y = w.mm(x.transpose(0, 1))\n",
    "# while y.data.norm() < 1000:\n",
    "#     y = y * 2 + 4\n",
    "\n",
    "\n",
    "print(w)\n",
    "print(y)"
   ]
  },
  {
   "cell_type": "markdown",
   "metadata": {},
   "source": [
    "# A basic forward prop"
   ]
  },
  {
   "cell_type": "code",
   "execution_count": 6,
   "metadata": {},
   "outputs": [
    {
     "name": "stdout",
     "output_type": "stream",
     "text": [
      "Net(\n",
      "  (conv1): Conv2d(1, 6, kernel_size=(5, 5), stride=(1, 1))\n",
      "  (conv2): Conv2d(6, 16, kernel_size=(5, 5), stride=(1, 1))\n",
      "  (fc1): Linear(in_features=400, out_features=120, bias=True)\n",
      "  (fc2): Linear(in_features=120, out_features=84, bias=True)\n",
      "  (fc3): Linear(in_features=84, out_features=10, bias=True)\n",
      ")\n"
     ]
    }
   ],
   "source": [
    "import torch\n",
    "import torch.nn as nn\n",
    "import torch.nn.functional as F\n",
    "\n",
    "\n",
    "class Net(nn.Module):\n",
    "\n",
    "    def __init__(self):\n",
    "        super(Net, self).__init__()\n",
    "        # 1 input image channel, 6 output channels, 5x5 square convolution\n",
    "        # kernel\n",
    "        self.conv1 = nn.Conv2d(1, 6, 5)\n",
    "        self.conv2 = nn.Conv2d(6, 16, 5)\n",
    "        # an affine operation: y = Wx + b\n",
    "        self.fc1 = nn.Linear(16 * 5 * 5, 120)\n",
    "        self.fc2 = nn.Linear(120, 84)\n",
    "        self.fc3 = nn.Linear(84, 10)\n",
    "\n",
    "    def forward(self, x):\n",
    "        # Max pooling over a (2, 2) window\n",
    "        x = F.max_pool2d(F.relu(self.conv1(x)), (2, 2))\n",
    "        # If the size is a square you can only specify a single number\n",
    "        x = F.max_pool2d(F.relu(self.conv2(x)), 2)\n",
    "        x = x.view(-1, self.num_flat_features(x))\n",
    "        x = F.relu(self.fc1(x))\n",
    "        x = F.relu(self.fc2(x))\n",
    "        x = self.fc3(x)\n",
    "        return x\n",
    "\n",
    "    def num_flat_features(self, x):\n",
    "        size = x.size()[1:]  # all dimensions except the batch dimension\n",
    "        num_features = 1\n",
    "        for s in size:\n",
    "            num_features *= s\n",
    "        return num_features\n",
    "\n",
    "\n",
    "net = Net()\n",
    "print(net)"
   ]
  },
  {
   "cell_type": "markdown",
   "metadata": {},
   "source": [
    "# Loading data/Training"
   ]
  },
  {
   "cell_type": "code",
   "execution_count": 7,
   "metadata": {},
   "outputs": [
    {
     "name": "stdout",
     "output_type": "stream",
     "text": [
      "Files already downloaded and verified\n",
      "Files already downloaded and verified\n"
     ]
    }
   ],
   "source": [
    "# Import Data Module\n",
    "import torch\n",
    "import torchvision\n",
    "import torchvision.transforms as transforms\n",
    "\n",
    "transform = transforms.Compose(\n",
    "    [transforms.ToTensor(),\n",
    "     transforms.Normalize((0.5, 0.5, 0.5), (0.5, 0.5, 0.5))])\n",
    "\n",
    "trainset = torchvision.datasets.CIFAR10(root='./data', train=True,\n",
    "                                        download=True, transform=transform)\n",
    "trainloader = torch.utils.data.DataLoader(trainset, batch_size=4,\n",
    "                                          shuffle=True, num_workers=2)\n",
    "\n",
    "testset = torchvision.datasets.CIFAR10(root='./data', train=False,\n",
    "                                       download=True, transform=transform)\n",
    "testloader = torch.utils.data.DataLoader(testset, batch_size=4,\n",
    "                                         shuffle=False, num_workers=2)\n",
    "\n",
    "classes = ('plane', 'car', 'bird', 'cat',\n",
    "           'deer', 'dog', 'frog', 'horse', 'ship', 'truck')"
   ]
  },
  {
   "cell_type": "code",
   "execution_count": 8,
   "metadata": {},
   "outputs": [
    {
     "data": {
      "image/png": "[encoded data removed]",
      "text/plain": [
       "<Figure size 432x288 with 1 Axes>"
      ]
     },
     "metadata": {
      "needs_background": "dark"
     },
     "output_type": "display_data"
    },
    {
     "name": "stdout",
     "output_type": "stream",
     "text": [
      "horse   dog plane   car\n"
     ]
    }
   ],
   "source": [
    "import matplotlib.pyplot as plt\n",
    "import numpy as np\n",
    "\n",
    "# functions to show an image\n",
    "\n",
    "\n",
    "def imshow(img):\n",
    "    img = img / 2 + 0.5     # unnormalize\n",
    "    npimg = img.numpy()\n",
    "    plt.imshow(np.transpose(npimg, (1, 2, 0)))\n",
    "    plt.show()\n",
    "\n",
    "\n",
    "# get some random training images\n",
    "dataiter = iter(trainloader)\n",
    "images, labels = dataiter.next()\n",
    "\n",
    "# show images\n",
    "imshow(torchvision.utils.make_grid(images))\n",
    "# print labels\n",
    "print(' '.join('%5s' % classes[labels[j]] for j in range(4)))"
   ]
  },
  {
   "cell_type": "code",
   "execution_count": 18,
   "metadata": {},
   "outputs": [
    {
     "data": {
      "text/plain": [
       "tensor([[ 0.0098,  0.1662, -0.2596, -0.1287, -0.2286,  0.0513,  0.0979,  0.0896,\n",
       "          0.1037,  0.0547]], grad_fn=<AddmmBackward>)"
      ]
     },
     "execution_count": 18,
     "metadata": {},
     "output_type": "execute_result"
    }
   ],
   "source": [
    "import torch.nn as nn\n",
    "import torch.nn.functional as F\n",
    "\n",
    "class ConvNet(nn.Module):\n",
    "    \"\"\"\n",
    "    Defines the convolutional network\n",
    "    \"\"\"\n",
    "    \n",
    "    def __init__(self):\n",
    "        \"\"\"\n",
    "        Initializes/Define the parameters to be tunes during training\n",
    "        \"\"\"\n",
    "        super().__init__()\n",
    "        self.conv1 = nn.Conv2d(3, 6, [5, 5])\n",
    "        self.pool2 = nn.MaxPool2d(3, 3)\n",
    "        self.conv3 = nn.Conv2d(6, 12, [4, 4])\n",
    "        self.pool4 = nn.MaxPool2d(2, 2)\n",
    "        self.fc5 = nn.Linear(12 * 3 * 3, 58)\n",
    "        self.fc6 = nn.Linear(58, 20)\n",
    "        self.fc7 = nn.Linear(20, 10)\n",
    "        \n",
    "    def forward(self, x):\n",
    "#         print(\"x\", x.shape)\n",
    "        x = F.relu(self.conv1(x))\n",
    "#         print(\"conv1\", x.shape)\n",
    "        x = self.pool2(x)\n",
    "#         print(\"pool2\", x.shape)\n",
    "        x = F.relu(self.conv3(x))\n",
    "#         print(\"conv3\", x.shape)\n",
    "        x = self.pool4(x)\n",
    "#         print(\"pool4\", x.shape)\n",
    "        x = x.view(-1, 12 * 3 * 3)\n",
    "#         print(\"reshape\", x.shape)\n",
    "        x = F.relu(self.fc5(x))\n",
    "#         print(\"fc5\", x.shape)\n",
    "        x = F.relu(self.fc6(x))\n",
    "#         print(\"fc6\", x.shape)\n",
    "        out = self.fc7(x)\n",
    "#         print(\"fc7\", out.shape)\n",
    "        \n",
    "        return out\n",
    "\n",
    "    \n",
    "net = ConvNet()\n",
    "# Test with one sample\n",
    "x1 = trainset[0][0]\n",
    "net.forward(x1.unsqueeze(0))"
   ]
  },
  {
   "cell_type": "code",
   "execution_count": 19,
   "metadata": {},
   "outputs": [
    {
     "name": "stdout",
     "output_type": "stream",
     "text": [
      "Epoch: 1\n",
      "    Minibach: 2000 | loss: 1.936\n",
      "    Minibach: 4000 | loss: 1.665\n",
      "    Minibach: 6000 | loss: 1.615\n",
      "    Minibach: 8000 | loss: 1.539\n",
      "    Minibach: 10000 | loss: 1.487\n",
      "    Minibach: 12000 | loss: 1.427\n",
      "Epoch: 2\n",
      "    Minibach: 2000 | loss: 1.404\n",
      "    Minibach: 4000 | loss: 1.396\n",
      "    Minibach: 6000 | loss: 1.378\n",
      "    Minibach: 8000 | loss: 1.351\n",
      "    Minibach: 10000 | loss: 1.362\n",
      "    Minibach: 12000 | loss: 1.338\n",
      "Epoch: 3\n",
      "    Minibach: 2000 | loss: 1.290\n",
      "    Minibach: 4000 | loss: 1.313\n",
      "    Minibach: 6000 | loss: 1.296\n",
      "    Minibach: 8000 | loss: 1.281\n",
      "    Minibach: 10000 | loss: 1.273\n",
      "    Minibach: 12000 | loss: 1.289\n",
      "Epoch: 4\n",
      "    Minibach: 2000 | loss: 1.250\n",
      "    Minibach: 4000 | loss: 1.258\n",
      "    Minibach: 6000 | loss: 1.235\n",
      "    Minibach: 8000 | loss: 1.251\n",
      "    Minibach: 10000 | loss: 1.215\n",
      "    Minibach: 12000 | loss: 1.234\n",
      "Epoch: 5\n",
      "    Minibach: 2000 | loss: 1.185\n",
      "    Minibach: 4000 | loss: 1.212\n",
      "    Minibach: 6000 | loss: 1.202\n",
      "    Minibach: 8000 | loss: 1.183\n",
      "    Minibach: 10000 | loss: 1.215\n",
      "    Minibach: 12000 | loss: 1.223\n"
     ]
    }
   ],
   "source": [
    "# Define Optimizer\n",
    "import torch.optim as optim\n",
    "\n",
    "# Define Loss\n",
    "xentropy = nn.CrossEntropyLoss()\n",
    "optimizer = optim.Adam(net.parameters(), lr=1e-3)\n",
    "\n",
    "# Define Constant\n",
    "EPOCHS = 5\n",
    "\n",
    "data = iter(trainloader).next()\n",
    "\n",
    "\n",
    "for epoch in range(EPOCHS):\n",
    "    print(\"Epoch: %d\" % (epoch+1))\n",
    "    # Loss of each record point\n",
    "    running_loss = 0.0\n",
    "    for i, data in enumerate(trainloader):\n",
    "        # get inputs\n",
    "        inputs, labels = data\n",
    "        \n",
    "        # Zero buffer\n",
    "        net.zero_grad()\n",
    "        \n",
    "        # train\n",
    "        outputs = net(inputs)\n",
    "        loss = xentropy(outputs, labels)\n",
    "        loss.backward()\n",
    "        optimizer.step()\n",
    "        \n",
    "        # Print every few iterations\n",
    "        running_loss += loss.item()\n",
    "        \n",
    "        if i % 2000 == 1999:\n",
    "            print(\"    Minibach: %d | loss: %.3f\" % \n",
    "                  (i + 1, running_loss / 2000)\n",
    "                 )\n",
    "            running_loss = 0"
   ]
  },
  {
   "cell_type": "code",
   "execution_count": 49,
   "metadata": {},
   "outputs": [
    {
     "data": {
      "image/png": "[encoded data removed]",
      "text/plain": [
       "<Figure size 432x288 with 1 Axes>"
      ]
     },
     "metadata": {
      "needs_background": "dark"
     },
     "output_type": "display_data"
    },
    {
     "name": "stdout",
     "output_type": "stream",
     "text": [
      "GroundTruth:    cat  ship  ship plane\n",
      "Predicted  :    cat   car plane plane\n"
     ]
    }
   ],
   "source": [
    "dataiter = iter(testloader)\n",
    "images, labels = dataiter.next()\n",
    "\n",
    "# print images\n",
    "imshow(torchvision.utils.make_grid(images))\n",
    "print('GroundTruth: ', ' '.join('%5s' % classes[labels[j]] for j in range(4)))\n",
    "\n",
    "outputs = net(images)\n",
    "_, predicted = torch.max(outputs, 1)\n",
    "print('Predicted  : ', ' '.join('%5s' % classes[predicted[j]]\n",
    "                              for j in range(4)))"
   ]
  },
  {
   "cell_type": "code",
   "execution_count": 50,
   "metadata": {},
   "outputs": [
    {
     "name": "stdout",
     "output_type": "stream",
     "text": [
      "Accuracy of the network on the 10000 test images: 56 %\n"
     ]
    }
   ],
   "source": [
    "correct = 0\n",
    "total = 0\n",
    "with torch.no_grad():\n",
    "    for data in testloader:\n",
    "        images, labels = data\n",
    "        outputs = net(images)\n",
    "        _, predicted = torch.max(outputs.data, 1)\n",
    "        total += labels.size(0)\n",
    "        correct += (predicted == labels).sum().item()\n",
    "\n",
    "print('Accuracy of the network on the 10000 test images: %d %%' % (\n",
    "    100 * correct / total))"
   ]
  },
  {
   "cell_type": "code",
   "execution_count": 51,
   "metadata": {},
   "outputs": [
    {
     "name": "stdout",
     "output_type": "stream",
     "text": [
      "Accuracy of plane : 61 %\n",
      "Accuracy of   car : 72 %\n",
      "Accuracy of  bird : 29 %\n",
      "Accuracy of   cat : 36 %\n",
      "Accuracy of  deer : 59 %\n",
      "Accuracy of   dog : 59 %\n",
      "Accuracy of  frog : 66 %\n",
      "Accuracy of horse : 60 %\n",
      "Accuracy of  ship : 61 %\n",
      "Accuracy of truck : 61 %\n"
     ]
    }
   ],
   "source": [
    "class_correct = list(0. for i in range(10))\n",
    "class_total = list(0. for i in range(10))\n",
    "with torch.no_grad():\n",
    "    for data in testloader:\n",
    "        images, labels = data\n",
    "        outputs = net(images)\n",
    "        _, predicted = torch.max(outputs, 1)\n",
    "        c = (predicted == labels).squeeze()\n",
    "        for i in range(4):\n",
    "            label = labels[i]\n",
    "            class_correct[label] += c[i].item()\n",
    "            class_total[label] += 1\n",
    "\n",
    "\n",
    "for i in range(10):\n",
    "    print('Accuracy of %5s : %2d %%' % (\n",
    "        classes[i], 100 * class_correct[i] / class_total[i]))"
   ]
  },
  {
   "cell_type": "code",
   "execution_count": 52,
   "metadata": {},
   "outputs": [
    {
     "name": "stdout",
     "output_type": "stream",
     "text": [
      "cpu\n"
     ]
    }
   ],
   "source": [
    "device = torch.device(\"cuda:0\" if torch.cuda.is_available() else \"cpu\")\n",
    "\n",
    "# Assume that we are on a CUDA machine, then this should print a CUDA device:\n",
    "\n",
    "print(device)"
   ]
  },
  {
   "cell_type": "code",
   "execution_count": 54,
   "metadata": {},
   "outputs": [],
   "source": [
    "net.to(device)\n",
    "inputs, labels = inputs.to(device), labels.to(device)"
   ]
  }
 ],
 "metadata": {
  "kernelspec": {
   "display_name": "Python 3",
   "language": "python",
   "name": "python3"
  },
  "language_info": {
   "codemirror_mode": {
    "name": "ipython",
    "version": 3
   },
   "file_extension": ".py",
   "mimetype": "text/x-python",
   "name": "python",
   "nbconvert_exporter": "python",
   "pygments_lexer": "ipython3",
   "version": "3.6.7"
  }
 },
 "nbformat": 4,
 "nbformat_minor": 2
}
